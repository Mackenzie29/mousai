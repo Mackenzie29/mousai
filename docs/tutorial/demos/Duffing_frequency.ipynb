{
 "cells": [
  {
   "cell_type": "markdown",
   "metadata": {},
   "source": [
    "# Duffing Oscillator Solution Using Frequency Domain Residuals"
   ]
  },
  {
   "cell_type": "markdown",
   "metadata": {},
   "source": [
    "This notebook uses the newer solver. This solver minimizes frequency domain error. `hb_freq` can also ignore the constant term ($\\omega = 0$) in the solution process. The error in Fourier Series of the state-equation calculated state derivative as compared to that obtained by taking the derivative of the input state. Any variety of time points may be used to ensure substantial averaging over a single cycle. "
   ]
  },
  {
   "cell_type": "code",
   "execution_count": 1,
   "metadata": {
    "init_cell": true
   },
   "outputs": [],
   "source": [
    "%matplotlib inline\n",
    "%load_ext autoreload\n",
    "%autoreload 2\n",
    "import scipy as sp\n",
    "import numpy as np\n",
    "import matplotlib.pyplot as plt\n",
    "import mousai as ms\n",
    "from scipy import pi, sin"
   ]
  },
  {
   "cell_type": "code",
   "execution_count": 10,
   "metadata": {},
   "outputs": [
    {
     "name": "stdout",
     "output_type": "stream",
     "text": [
      "Equation errors (should be zero):  [[-0.06274296 -1.23406989]]\n",
      "Constant term of FFT of signal should be zero:  0j\n"
     ]
    }
   ],
   "source": [
    "# Test that all is working. \n",
    "# f_tol adjusts accuracy. This is smaller than reasonable, but illustrative of usage. \n",
    "t, x, e, amps, phases = ms.hb_freq(ms.duff_osc, np.array([[0,1,-1]]), 0.7, f_tol = 1e-10)\n",
    "print('Equation errors (should be zero): ', e)\n",
    "print('Constant term of FFT of signal should be zero: ', ms.fftp.fft(x)[0,0])"
   ]
  },
  {
   "cell_type": "code",
   "execution_count": 8,
   "metadata": {
    "scrolled": true
   },
   "outputs": [
    {
     "name": "stdout",
     "output_type": "stream",
     "text": [
      "Equation errors (should be zero):  [[ 2.76738526e-02 -3.20355056e+00 -3.40004141e+00  1.19027876e+00\n",
      "  -1.17654286e-03 -1.74367098e-02  1.17238348e-01 -1.03000252e-02\n",
      "  -1.17654286e-03 -1.74367098e-02 -3.40004141e+00  1.19027876e+00\n",
      "   2.76738526e-02 -3.20355056e+00]]\n",
      "Constant term of FFT of signal should be zero:  (-4.180683577104105e-16+0j)\n"
     ]
    }
   ],
   "source": [
    "# Using more harmonics. \n",
    "t, x, e, amps, phases = ms.hb_freq(ms.duff_osc, x0 = np.array([[0,1,-1]]), omega = .7, num_harmonics= 7)\n",
    "print('Equation errors (should be zero): ', e)\n",
    "print('Constant term of FFT of signal should be zero: ', ms.fftp.fft(x)[0,0])"
   ]
  },
  {
   "cell_type": "markdown",
   "metadata": {},
   "source": [
    "Sometimes we can improve just by restarting from the prior end point. Sometimes, we just think it's improved. "
   ]
  },
  {
   "cell_type": "code",
   "execution_count": 4,
   "metadata": {},
   "outputs": [
    {
     "name": "stdout",
     "output_type": "stream",
     "text": [
      "Errors:  [[ 2.76740537e-02 -3.20355061e+00 -3.40004206e+00  1.19027880e+00\n",
      "  -1.17698835e-03 -1.74367133e-02  1.17240227e-01 -1.03001660e-02\n",
      "  -1.17698835e-03 -1.74367133e-02 -3.40004206e+00  1.19027880e+00\n",
      "   2.76740537e-02 -3.20355061e+00]]\n",
      "Constant term of FFT of signal should be zero:  (-1.5092094240998222e-16+0j)\n"
     ]
    },
    {
     "name": "stderr",
     "output_type": "stream",
     "text": [
      "/Users/jslater/anaconda3/lib/python3.6/site-packages/scipy/optimize/nonlin.py:476: RuntimeWarning: invalid value encountered in double_scalars\n",
      "  and dx_norm/self.x_rtol <= x_norm))\n"
     ]
    }
   ],
   "source": [
    "t, x, e, amps, phases = ms.hb_freq(ms.duff_osc, x0 = x, omega = .7, num_harmonics= 7)\n",
    "print('Errors: ', e)\n",
    "print('Constant term of FFT of signal should be zero: ', ms.fftp.fft(x)[0,0])"
   ]
  },
  {
   "cell_type": "code",
   "execution_count": 5,
   "metadata": {},
   "outputs": [
    {
     "name": "stdout",
     "output_type": "stream",
     "text": [
      "The average for this problem is known to be zero, we got 7.401486830834377e-18\n"
     ]
    },
    {
     "data": {
      "image/png": "[encoded data removed]",
      "text/plain": [
       "<Figure size 432x288 with 1 Axes>"
      ]
     },
     "metadata": {},
     "output_type": "display_data"
    }
   ],
   "source": [
    "# Let's get a smoother response\n",
    "time, xc = ms.time_history(t,x)\n",
    "plt.plot(time,xc.T,t,x.T,'*')\n",
    "plt.grid(True)\n",
    "print('The average for this problem is known to be zero, we got', sp.average(x))"
   ]
  },
  {
   "cell_type": "code",
   "execution_count": 2,
   "metadata": {},
   "outputs": [],
   "source": [
    "def duff_osc2(x, v, params):\n",
    "    omega = params['omega']\n",
    "    t = params['cur_time']\n",
    "    return np.array([[-x-.01*x**3-.01*v+1*sin(omega*t)]])"
   ]
  },
  {
   "cell_type": "code",
   "execution_count": 3,
   "metadata": {
    "scrolled": true
   },
   "outputs": [
    {
     "name": "stdout",
     "output_type": "stream",
     "text": [
      "[2.46514443] [[-0.04861553  2.15877027 -2.11015474]] [[-5.83386348e-04 -1.47208515e+00]]\n",
      "Constant term of FFT of signal should be zero:  (-2.5673907444456745e-16+0j)\n"
     ]
    },
    {
     "data": {
      "image/png": "[encoded data removed]",
      "text/plain": [
       "<Figure size 432x288 with 1 Axes>"
      ]
     },
     "metadata": {},
     "output_type": "display_data"
    }
   ],
   "source": [
    "t, x, e, amps, phases = ms.hb_freq(duff_osc2, np.array([[0,1,-1]]), omega = 0.8, num_harmonics=1)\n",
    "\n",
    "print(amps, x, e)\n",
    "print('Constant term of FFT of signal should be zero: ', ms.fftp.fft(x)[0,0])\n",
    "time, xc = ms.time_history(t,x)\n",
    "\n",
    "plt.plot(time, xc.T, t, x.T, '*')\n",
    "plt.grid(True)"
   ]
  },
  {
   "cell_type": "code",
   "execution_count": 4,
   "metadata": {},
   "outputs": [
    {
     "name": "stdout",
     "output_type": "stream",
     "text": [
      "def duff_osc2(x, v, params):\n",
      "    omega = params['omega']\n",
      "    t = params['cur_time']\n",
      "    return np.array([[-x-.01*x**3-.01*v+1*sin(omega*t)]])\n",
      "\n"
     ]
    }
   ],
   "source": [
    "import inspect\n",
    "lines = inspect.getsource(duff_osc2)\n",
    "print(lines)"
   ]
  },
  {
   "cell_type": "code",
   "execution_count": 3,
   "metadata": {
    "scrolled": true
   },
   "outputs": [
    {
     "name": "stdout",
     "output_type": "stream",
     "text": [
      "Exception is  [[-48.05355545 -10.0924682 ]]\n",
      "Excepted- search failed for omega = 3.0050 rad/s.\n",
      "What ever error this is, please put into har_bal\n",
      "               after the excepts (2 of them)\n"
     ]
    },
    {
     "data": {
      "text/plain": [
       "[<matplotlib.lines.Line2D at 0x11409b208>]"
      ]
     },
     "execution_count": 3,
     "metadata": {},
     "output_type": "execute_result"
    },
    {
     "data": {
      "image/png": "[encoded data removed]",
      "text/plain": [
       "<Figure size 432x288 with 1 Axes>"
      ]
     },
     "metadata": {},
     "output_type": "display_data"
    }
   ],
   "source": [
    "omega = np.linspace(0.1,3,200)+1/200\n",
    "amp = np.zeros_like(omega)\n",
    "x = np.array([[0,-1,1]])\n",
    "for i, freq in enumerate(omega):\n",
    "    #print(i,freq,x)\n",
    "    try:\n",
    "        t, x, e, amps, phases = ms.hb_freq(duff_osc2, x, omega = freq, num_harmonics = 1)# , callback = resid)\n",
    "        #print(freq, amps, e)\n",
    "        amp[i]=amps[0]\n",
    "    except:\n",
    "        amp[i] = np.nan    \n",
    "plt.plot(omega, amp)"
   ]
  },
  {
   "cell_type": "code",
   "execution_count": 11,
   "metadata": {
    "scrolled": true
   },
   "outputs": [
    {
     "data": {
      "text/plain": [
       "[<matplotlib.lines.Line2D at 0x114b01978>]"
      ]
     },
     "execution_count": 11,
     "metadata": {},
     "output_type": "execute_result"
    },
    {
     "data": {
      "image/png": "[encoded data removed]",
      "text/plain": [
       "<Figure size 432x288 with 1 Axes>"
      ]
     },
     "metadata": {},
     "output_type": "display_data"
    }
   ],
   "source": [
    "omega = np.linspace(0.1,3,90)+1/200\n",
    "amp = np.zeros_like(omega)\n",
    "x = np.array([[0,-1,1]])\n",
    "for i, freq in enumerate(omega):\n",
    "    #print(i,freq,x)\n",
    "    #print(sp.average(x))\n",
    "    x = x-sp.average(x)\n",
    "    try:\n",
    "        t, x, e, amps, phases = ms.hb_freq(duff_osc2, x, freq, num_harmonics=1)#, callback = resid)\n",
    "        amp[i]=amps[0]\n",
    "    except:\n",
    "        amp[i] = np.nan    \n",
    "plt.plot(omega, amp)"
   ]
  },
  {
   "cell_type": "code",
   "execution_count": 12,
   "metadata": {
    "scrolled": false
   },
   "outputs": [
    {
     "name": "stdout",
     "output_type": "stream",
     "text": [
      "Exception is  [[-0.2869882   6.06478863]]\n",
      "Excepted- search failed for omega = 1.1700 rad/s.\n",
      "What ever error this is, please put into har_bal\n",
      "               after the excepts (2 of them)\n",
      "Exception is  [[-0.27231518  5.99126941]]\n",
      "Excepted- search failed for omega = 1.1650 rad/s.\n",
      "What ever error this is, please put into har_bal\n",
      "               after the excepts (2 of them)\n",
      "Exception is  [[-0.26479525  5.82715579]]\n",
      "Excepted- search failed for omega = 1.1600 rad/s.\n",
      "What ever error this is, please put into har_bal\n",
      "               after the excepts (2 of them)\n",
      "Exception is  [[-0.25592313  5.70596754]]\n",
      "Excepted- search failed for omega = 1.1550 rad/s.\n",
      "What ever error this is, please put into har_bal\n",
      "               after the excepts (2 of them)\n",
      "Exception is  [[-0.24684484  5.58698826]]\n",
      "Excepted- search failed for omega = 1.1500 rad/s.\n",
      "What ever error this is, please put into har_bal\n",
      "               after the excepts (2 of them)\n",
      "Exception is  [[-0.23735054  5.46836382]]\n",
      "Excepted- search failed for omega = 1.1450 rad/s.\n",
      "What ever error this is, please put into har_bal\n",
      "               after the excepts (2 of them)\n",
      "Exception is  [[-0.22735391  5.3498781 ]]\n",
      "Excepted- search failed for omega = 1.1400 rad/s.\n",
      "What ever error this is, please put into har_bal\n",
      "               after the excepts (2 of them)\n",
      "Exception is  [[-0.2169513   5.23339827]]\n",
      "Excepted- search failed for omega = 1.1350 rad/s.\n",
      "What ever error this is, please put into har_bal\n",
      "               after the excepts (2 of them)\n",
      "Exception is  [[-0.20738846  5.13231876]]\n",
      "Excepted- search failed for omega = 1.1300 rad/s.\n",
      "What ever error this is, please put into har_bal\n",
      "               after the excepts (2 of them)\n",
      "Exception is  [[-0.20365616  5.09467219]]\n",
      "Excepted- search failed for omega = 1.1250 rad/s.\n",
      "What ever error this is, please put into har_bal\n",
      "               after the excepts (2 of them)\n",
      "Exception is  [[-0.20358654  5.09400216]]\n",
      "Excepted- search failed for omega = 1.1200 rad/s.\n",
      "What ever error this is, please put into har_bal\n",
      "               after the excepts (2 of them)\n",
      "Exception is  [[-0.1994007   5.05661488]]\n",
      "Excepted- search failed for omega = 1.1150 rad/s.\n",
      "What ever error this is, please put into har_bal\n",
      "               after the excepts (2 of them)\n",
      "Exception is  [[-0.18801835  4.96146479]]\n",
      "Excepted- search failed for omega = 1.1100 rad/s.\n",
      "What ever error this is, please put into har_bal\n",
      "               after the excepts (2 of them)\n",
      "Exception is  [[-0.1744362   4.85864847]]\n",
      "Excepted- search failed for omega = 1.1050 rad/s.\n",
      "What ever error this is, please put into har_bal\n",
      "               after the excepts (2 of them)\n",
      "Exception is  [[-0.10814081  4.36742306]]\n",
      "Excepted- search failed for omega = 1.1000 rad/s.\n",
      "What ever error this is, please put into har_bal\n",
      "               after the excepts (2 of them)\n"
     ]
    },
    {
     "data": {
      "text/plain": [
       "[<matplotlib.lines.Line2D at 0x114c14978>]"
      ]
     },
     "execution_count": 12,
     "metadata": {},
     "output_type": "execute_result"
    },
    {
     "data": {
      "image/png": "[encoded data removed]",
      "text/plain": [
       "<Figure size 432x288 with 1 Axes>"
      ]
     },
     "metadata": {},
     "output_type": "display_data"
    }
   ],
   "source": [
    "omegal = np.arange(3,.03,-1/200)+1/200\n",
    "ampl = np.zeros_like(omegal)\n",
    "x = np.array([[0,-1,1]])\n",
    "for i, freq in enumerate(omegal):\n",
    "    # Here we try to obtain solutions, but if they don't work, \n",
    "    # we ignore them by inserting `np.nan` values.\n",
    "    x = x-sp.average(x)\n",
    "    try:\n",
    "        t, x, e, amps, phases = ms.hb_freq(duff_osc2, x, freq, num_harmonics=1, f_tol = 1e-6)#, callback = resid)\n",
    "        ampl[i]=amps[0]\n",
    "    except:\n",
    "        ampl[i] = np.nan\n",
    "plt.plot(omegal, ampl)"
   ]
  },
  {
   "cell_type": "code",
   "execution_count": 13,
   "metadata": {},
   "outputs": [
    {
     "data": {
      "text/plain": [
       "[<matplotlib.lines.Line2D at 0x114ad0320>]"
      ]
     },
     "execution_count": 13,
     "metadata": {},
     "output_type": "execute_result"
    },
    {
     "data": {
      "image/png": "[encoded data removed]",
      "text/plain": [
       "<Figure size 432x288 with 1 Axes>"
      ]
     },
     "metadata": {},
     "output_type": "display_data"
    }
   ],
   "source": [
    "plt.plot(omegal,ampl)\n",
    "plt.plot(omega,amp)\n",
    "#plt.axis([0,3, 0, 10.5])"
   ]
  },
  {
   "cell_type": "code",
   "execution_count": 41,
   "metadata": {},
   "outputs": [],
   "source": [
    "from scipy.optimize import newton_krylov"
   ]
  },
  {
   "cell_type": "code",
   "execution_count": 42,
   "metadata": {},
   "outputs": [],
   "source": [
    "def duff_amp_resid(a):\n",
    "    return (mu**2+(sigma-3/8*alpha/omega_0*a**2)**2)*a**2-(k**2)/4/omega_0**2"
   ]
  },
  {
   "cell_type": "code",
   "execution_count": 15,
   "metadata": {},
   "outputs": [],
   "source": [
    "mu = 0.05 # damping\n",
    "k = 1 # excitation amplitude\n",
    "sigma = -0.9 #detuning\n",
    "omega_0 = 1 # driving frequency\n",
    "alpha = 0.1 # cubic coefficient"
   ]
  },
  {
   "cell_type": "code",
   "execution_count": 16,
   "metadata": {},
   "outputs": [
    {
     "data": {
      "text/plain": [
       "array(-0.54786912)"
      ]
     },
     "execution_count": 16,
     "metadata": {},
     "output_type": "execute_result"
    }
   ],
   "source": [
    "newton_krylov(duff_amp_resid,-.1)"
   ]
  },
  {
   "cell_type": "code",
   "execution_count": 17,
   "metadata": {},
   "outputs": [
    {
     "data": {
      "text/plain": [
       "[<matplotlib.lines.Line2D at 0x11b06e8d0>]"
      ]
     },
     "execution_count": 17,
     "metadata": {},
     "output_type": "execute_result"
    },
    {
     "data": {
      "image/png": "[encoded data removed]",
      "text/plain": [
       "<Figure size 432x288 with 1 Axes>"
      ]
     },
     "metadata": {},
     "output_type": "display_data"
    }
   ],
   "source": [
    "sigmas = np.linspace(-1,3,200)\n",
    "amplitudes = np.zeros_like(sigmas)\n",
    "x = newton_krylov(duff_amp_resid,1)\n",
    "for i, sigma in enumerate(sigmas):\n",
    "    try:\n",
    "        amplitudes[i] = newton_krylov(duff_amp_resid,x)\n",
    "        x = amplitudes[i]\n",
    "    except:\n",
    "        amplitudes[i] = newton_krylov(duff_amp_resid,0)\n",
    "        x = amplitudes[i]\n",
    "\n",
    "plt.plot(sigmas,amplitudes)"
   ]
  },
  {
   "cell_type": "code",
   "execution_count": 18,
   "metadata": {},
   "outputs": [
    {
     "name": "stderr",
     "output_type": "stream",
     "text": [
      "/Users/jslater/anaconda3/lib/python3.6/site-packages/scipy/optimize/nonlin.py:474: RuntimeWarning: invalid value encountered in double_scalars\n",
      "  and dx_norm/self.x_rtol <= x_norm))\n"
     ]
    },
    {
     "data": {
      "text/plain": [
       "[<matplotlib.lines.Line2D at 0x11b30a240>]"
      ]
     },
     "execution_count": 18,
     "metadata": {},
     "output_type": "execute_result"
    },
    {
     "data": {
      "image/png": "[encoded data removed]",
      "text/plain": [
       "<Figure size 432x288 with 1 Axes>"
      ]
     },
     "metadata": {},
     "output_type": "display_data"
    }
   ],
   "source": [
    "sigmas = np.linspace(-1,3,200)\n",
    "sigmasr = sigmas[::-1]\n",
    "amplitudesr = np.zeros_like(sigmas)\n",
    "x = newton_krylov(duff_amp_resid,3)\n",
    "for i, sigma in enumerate(sigmasr):\n",
    "    try:\n",
    "        amplitudesr[i] = newton_krylov(duff_amp_resid,x)\n",
    "        x = amplitudesr[i]\n",
    "    except:\n",
    "        amplitudesr[i] = np.nan#newton_krylov(duff_amp_resid,0)\n",
    "        x = amplitudesr[i]\n",
    "        \n",
    "\n",
    "plt.plot(sigmasr,amplitudesr)"
   ]
  },
  {
   "cell_type": "code",
   "execution_count": 19,
   "metadata": {
    "scrolled": true
   },
   "outputs": [
    {
     "data": {
      "text/plain": [
       "[<matplotlib.lines.Line2D at 0x11a7c1860>]"
      ]
     },
     "execution_count": 19,
     "metadata": {},
     "output_type": "execute_result"
    },
    {
     "data": {
      "image/png": "[encoded data removed]",
      "text/plain": [
       "<Figure size 432x288 with 1 Axes>"
      ]
     },
     "metadata": {},
     "output_type": "display_data"
    }
   ],
   "source": [
    "plt.plot(sigmasr,amplitudesr)\n",
    "plt.plot(sigmas,amplitudes)"
   ]
  },
  {
   "cell_type": "markdown",
   "metadata": {},
   "source": [
    "# Using lambda functions\n",
    "As an aside, we can use a lambda function to solve a simple equation without much hassle. For example, $\\ddot{x} + 0.1\\dot{x}+ x + 0.1 x^3 = \\sin(0.7t)$"
   ]
  },
  {
   "cell_type": "code",
   "execution_count": 20,
   "metadata": {},
   "outputs": [
    {
     "name": "stdout",
     "output_type": "stream",
     "text": [
      "[1.47671439]\n"
     ]
    }
   ],
   "source": [
    "def duff_osc2(x, v, params):\n",
    "    omega = params['omega']\n",
    "    t = params['cur_time']\n",
    "    return np.array([[-x-.1*x**3-.1*v+1*sin(omega*t)]])\n",
    "_,_,_,a,_ = ms.hb_freq(duff_osc2, np.array([[0,1,-1]]), 0.7, num_harmonics=1)\n",
    "print(a)"
   ]
  },
  {
   "cell_type": "code",
   "execution_count": 21,
   "metadata": {},
   "outputs": [
    {
     "data": {
      "text/plain": [
       "array([1.47671439])"
      ]
     },
     "execution_count": 21,
     "metadata": {},
     "output_type": "execute_result"
    }
   ],
   "source": [
    "_,_,_,a,_ = ms.hb_freq(lambda x,v, params:np.array([[-x-.1*x**3-.1*v+1*sin(0.7*params['cur_time'])]]), np.array([[0,1,-1]]), .7, num_harmonics=1)\n",
    "a"
   ]
  },
  {
   "cell_type": "markdown",
   "metadata": {},
   "source": [
    "Two things to note: \n",
    "1. Remember that the lambda function has to return an `n by 1` array. \n",
    "2. Time must be referenced as params['cur_time']"
   ]
  }
 ],
 "metadata": {
  "hide_input": false,
  "kernelspec": {
   "display_name": "Python 3",
   "language": "python",
   "name": "python3"
  },
  "language_info": {
   "codemirror_mode": {
    "name": "ipython",
    "version": 3
   },
   "file_extension": ".py",
   "mimetype": "text/x-python",
   "name": "python",
   "nbconvert_exporter": "python",
   "pygments_lexer": "ipython3",
   "version": "3.6.5"
  },
  "latex_envs": {
   "LaTeX_envs_menu_present": true,
   "autoclose": false,
   "autocomplete": true,
   "bibliofile": "biblio.bib",
   "cite_by": "apalike",
   "current_citInitial": 1,
   "eqLabelWithNumbers": true,
   "eqNumInitial": 1,
   "hotkeys": {
    "equation": "Ctrl-E",
    "itemize": "Ctrl-I"
   },
   "labels_anchors": false,
   "latex_user_defs": false,
   "report_style_numbering": false,
   "user_envs_cfg": false
  },
  "toc": {
   "nav_menu": {},
   "number_sections": true,
   "sideBar": true,
   "skip_h1_title": false,
   "title_cell": "Table of Contents",
   "title_sidebar": "Contents",
   "toc_cell": false,
   "toc_position": {},
   "toc_section_display": "block",
   "toc_window_display": false
  },
  "varInspector": {
   "cols": {
    "lenName": 16,
    "lenType": 16,
    "lenVar": 40
   },
   "kernels_config": {
    "python": {
     "delete_cmd_postfix": "",
     "delete_cmd_prefix": "del ",
     "library": "var_list.py",
     "varRefreshCmd": "print(var_dic_list())"
    },
    "r": {
     "delete_cmd_postfix": ") ",
     "delete_cmd_prefix": "rm(",
     "library": "var_list.r",
     "varRefreshCmd": "cat(var_dic_list()) "
    }
   },
   "types_to_exclude": [
    "module",
    "function",
    "builtin_function_or_method",
    "instance",
    "_Feature"
   ],
   "window_display": false
  }
 },
 "nbformat": 4,
 "nbformat_minor": 2
}
